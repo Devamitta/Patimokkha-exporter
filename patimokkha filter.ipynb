{
 "cells": [
  {
   "cell_type": "code",
   "execution_count": 7,
   "metadata": {},
   "outputs": [],
   "source": [
    "import pandas as pd\n",
    "\n",
    "df = pd.read_csv(\"/home/deva/Documents/pali_resources/Pātimokkha Word by Word.csv\", sep=\"\\t\", dtype= str)\n",
    "df.fillna(\"\", inplace=True)"
   ]
  },
  {
   "cell_type": "code",
   "execution_count": 8,
   "metadata": {},
   "outputs": [],
   "source": [
    "# filter all SBS words\n",
    "test1 = df['meaning'] != \"\"\n",
    "test2 = df['sentence'] != \"\"\n",
    "test3 = df['#'] == \"1\"\n",
    "filter = test2 & test1 & test3\n",
    "df = df.loc[filter]"
   ]
  },
  {
   "cell_type": "code",
   "execution_count": 9,
   "metadata": {},
   "outputs": [],
   "source": [
    "# change tamil\n",
    "test1 = df['meaning'] != \"\"\n",
    "filter = test1\n",
    "df.loc[filter, ['tamil']] = \"\""
   ]
  },
  {
   "cell_type": "code",
   "execution_count": null,
   "metadata": {},
   "outputs": [],
   "source": [
    "# choosing order of columns\n",
    "\n",
    "df = df[['bhikkhupātimokkhapāḷi', 'pos', 'grammar', '+case', 'tamil', \n",
    "        'meaning', 'lit. meaning', 'root', 'rt gp', 'sign', 'base', \n",
    "        'construction', 'compound type', 'compound construction', 'abbrev', \n",
    "        'source', 'sentence', 'aṭṭhakathā']]"
   ]
  },
  {
   "cell_type": "code",
   "execution_count": 10,
   "metadata": {},
   "outputs": [],
   "source": [
    "# save csv\n",
    "df.to_csv(\"/home/deva/Documents/pali_resources/Pātimokkha Word by Word.csv\", sep=\"\\t\", index=None)"
   ]
  }
 ],
 "metadata": {
  "interpreter": {
   "hash": "8a94588eda9d64d9e9a351ab8144e55b1fabf5113b54e67dd26a8c27df0381b3"
  },
  "kernelspec": {
   "display_name": "Python 3 (ipykernel)",
   "language": "python",
   "name": "python3"
  },
  "language_info": {
   "codemirror_mode": {
    "name": "ipython",
    "version": 3
   },
   "file_extension": ".py",
   "mimetype": "text/x-python",
   "name": "python",
   "nbconvert_exporter": "python",
   "pygments_lexer": "ipython3",
   "version": "3.10.2"
  }
 },
 "nbformat": 4,
 "nbformat_minor": 2
}
